{
 "cells": [
  {
   "cell_type": "markdown",
   "metadata": {},
   "source": [
    "# Forecasting GitHub Push Events"
   ]
  },
  {
   "cell_type": "code",
   "execution_count": 1,
   "metadata": {},
   "outputs": [
    {
     "name": "stderr",
     "output_type": "stream",
     "text": [
      "Using TensorFlow backend.\n"
     ]
    }
   ],
   "source": [
    "import numpy as np\n",
    "import pandas as pd\n",
    "import datetime as dt\n",
    "\n",
    "import matplotlib.pyplot as plt\n",
    "\n",
    "from deep4cast.forecasters import Forecaster\n",
    "import deep4cast.models as models\n",
    "import deep4cast.custom_metrics as metrics\n",
    "import deep4cast.utils as utils\n",
    "\n",
    "%matplotlib inline"
   ]
  },
  {
   "cell_type": "markdown",
   "metadata": {},
   "source": [
    "## Data preparation"
   ]
  },
  {
   "cell_type": "code",
   "execution_count": 2,
   "metadata": {},
   "outputs": [
    {
     "ename": "IndexError",
     "evalue": "index 2 is out of bounds for axis 2 with size 2",
     "output_type": "error",
     "traceback": [
      "\u001b[1;31m---------------------------------------------------------------------------\u001b[0m",
      "\u001b[1;31mIndexError\u001b[0m                                Traceback (most recent call last)",
      "\u001b[1;32m<ipython-input-2-fb6153700782>\u001b[0m in \u001b[0;36m<module>\u001b[1;34m()\u001b[0m\n\u001b[0;32m     37\u001b[0m \u001b[1;31m# Rescale the datasets so that the neural networks can be fitted properly and stably\u001b[0m\u001b[1;33m\u001b[0m\u001b[1;33m\u001b[0m\u001b[0m\n\u001b[0;32m     38\u001b[0m \u001b[0mscaler_X\u001b[0m \u001b[1;33m=\u001b[0m \u001b[0mutils\u001b[0m\u001b[1;33m.\u001b[0m\u001b[0mVectorScaler\u001b[0m\u001b[1;33m(\u001b[0m\u001b[0mtargets\u001b[0m\u001b[1;33m=\u001b[0m\u001b[1;33m[\u001b[0m\u001b[1;36m0\u001b[0m\u001b[1;33m,\u001b[0m \u001b[1;36m1\u001b[0m\u001b[1;33m,\u001b[0m \u001b[1;36m2\u001b[0m\u001b[1;33m]\u001b[0m\u001b[1;33m)\u001b[0m\u001b[1;33m\u001b[0m\u001b[0m\n\u001b[1;32m---> 39\u001b[1;33m \u001b[0mscaler_X\u001b[0m\u001b[1;33m.\u001b[0m\u001b[0mfit\u001b[0m\u001b[1;33m(\u001b[0m\u001b[0mX_train\u001b[0m\u001b[1;33m)\u001b[0m\u001b[1;33m\u001b[0m\u001b[0m\n\u001b[0m\u001b[0;32m     40\u001b[0m \u001b[0mscaler_y\u001b[0m \u001b[1;33m=\u001b[0m \u001b[0mutils\u001b[0m\u001b[1;33m.\u001b[0m\u001b[0mVectorScaler\u001b[0m\u001b[1;33m(\u001b[0m\u001b[1;33m)\u001b[0m\u001b[1;33m\u001b[0m\u001b[0m\n\u001b[0;32m     41\u001b[0m \u001b[0mscaler_y\u001b[0m\u001b[1;33m.\u001b[0m\u001b[0mfit\u001b[0m\u001b[1;33m(\u001b[0m\u001b[0my_train\u001b[0m\u001b[1;33m)\u001b[0m\u001b[1;33m\u001b[0m\u001b[0m\n",
      "\u001b[1;32mc:\\users\\tobischo\\cdna\\deep4cast\\deep4cast\\utils.py\u001b[0m in \u001b[0;36mfit\u001b[1;34m(self, X, y, **kwargs)\u001b[0m\n\u001b[0;32m    118\u001b[0m             \u001b[1;31m# Need to concatenate mean with zeros and stds with ones for\u001b[0m\u001b[1;33m\u001b[0m\u001b[1;33m\u001b[0m\u001b[0m\n\u001b[0;32m    119\u001b[0m             \u001b[1;31m# categorical targets\u001b[0m\u001b[1;33m\u001b[0m\u001b[1;33m\u001b[0m\u001b[0m\n\u001b[1;32m--> 120\u001b[1;33m             \u001b[0mmean\u001b[0m \u001b[1;33m=\u001b[0m \u001b[0mnp\u001b[0m\u001b[1;33m.\u001b[0m\u001b[0mmean\u001b[0m\u001b[1;33m(\u001b[0m\u001b[0mX\u001b[0m\u001b[1;33m[\u001b[0m\u001b[1;33m:\u001b[0m\u001b[1;33m,\u001b[0m \u001b[1;33m:\u001b[0m\u001b[1;33m,\u001b[0m \u001b[0mself\u001b[0m\u001b[1;33m.\u001b[0m\u001b[0mtargets\u001b[0m\u001b[1;33m]\u001b[0m\u001b[1;33m,\u001b[0m \u001b[0maxis\u001b[0m\u001b[1;33m=\u001b[0m\u001b[1;36m0\u001b[0m\u001b[1;33m)\u001b[0m\u001b[1;33m\u001b[0m\u001b[0m\n\u001b[0m\u001b[0;32m    121\u001b[0m             \u001b[0mstd\u001b[0m \u001b[1;33m=\u001b[0m \u001b[0mnp\u001b[0m\u001b[1;33m.\u001b[0m\u001b[0mstd\u001b[0m\u001b[1;33m(\u001b[0m\u001b[0mX\u001b[0m\u001b[1;33m[\u001b[0m\u001b[1;33m:\u001b[0m\u001b[1;33m,\u001b[0m \u001b[1;33m:\u001b[0m\u001b[1;33m,\u001b[0m \u001b[0mself\u001b[0m\u001b[1;33m.\u001b[0m\u001b[0mtargets\u001b[0m\u001b[1;33m]\u001b[0m\u001b[1;33m,\u001b[0m \u001b[0maxis\u001b[0m\u001b[1;33m=\u001b[0m\u001b[1;36m0\u001b[0m\u001b[1;33m)\u001b[0m\u001b[1;33m\u001b[0m\u001b[0m\n\u001b[0;32m    122\u001b[0m             cat_shape = (X.shape[1],\n",
      "\u001b[1;31mIndexError\u001b[0m: index 2 is out of bounds for axis 2 with size 2"
     ]
    }
   ],
   "source": [
    "# For our forecaster, we are going to have a lookback window called 'lag' and a horizon window\n",
    "# called 'horizon' for which we will forecast.\n",
    "lag = 180  # measured in hours\n",
    "horizon = 90 # measured in hours\n",
    "\n",
    "# Loading the dataset and dropping unncecessary columns\n",
    "df = pd.read_csv('data/push_events.csv')\n",
    "df['date'] = pd.to_datetime(df.date)\n",
    "df = df.where(df.date < dt.datetime(2018,2,1)).dropna()\n",
    "df['count_annual_shift'] = df['count'].shift(365-horizon)\n",
    "data = df.drop(['date'], axis=1)\n",
    "data = data.dropna()\n",
    "\n",
    "# # We have real-valued and categorial features and we need to make sure that we do the data \n",
    "# # preparation for them correctly\n",
    "# real_values = ['load', 'temperature']\n",
    "# categorical = list(set(data.columns).difference(set(real_values)))\n",
    "\n",
    "# # Let's create shifted categorical feature to include information about the future's holiday \n",
    "# # structure. This will make it easier for our model to do predictions on holidays\n",
    "# shifted = data[categorical].shift(-horizon)\n",
    "# shifted = shifted.rename(columns={column:column + '_shifted' for column in shifted.columns})\n",
    "# data = pd.concat([data, shifted], axis=1)\n",
    "\n",
    "# Format data into numpy array\n",
    "data = np.expand_dims(data.values, 0)\n",
    "\n",
    "# Now we need to sequentialize the training and testing dataset\n",
    "X_train, y_train = utils.sequentialize(data[:,:-horizon,:], lag, horizon, targets=[0])\n",
    "X_test, y_test = utils.sequentialize(data[:,-horizon-lag:,:], lag, horizon, targets=[0])\n",
    "\n",
    "# # Transform the datasets to log-scale\n",
    "# X_train = utils.transform(X_train, np.log1p, targets=[0])\n",
    "# X_test = utils.transform(X_test, np.log1p, targets=[0])\n",
    "# y_train = utils.transform(y_train, np.log1p, targets=[0])\n",
    "\n",
    "# Rescale the datasets so that the neural networks can be fitted properly and stably\n",
    "scaler_X = utils.VectorScaler(targets=[0, 1, 2])\n",
    "scaler_X.fit(X_train)\n",
    "scaler_y = utils.VectorScaler()\n",
    "scaler_y.fit(y_train)\n",
    "X_train = scaler_X.transform(X_train)\n",
    "y_train = scaler_y.transform(y_train)\n",
    "X_test = scaler_X.transform(X_test)"
   ]
  },
  {
   "cell_type": "code",
   "execution_count": null,
   "metadata": {},
   "outputs": [],
   "source": [
    "df[-90:].iloc[:,1:].plot()"
   ]
  },
  {
   "cell_type": "code",
   "execution_count": 3,
   "metadata": {},
   "outputs": [
    {
     "data": {
      "image/png": "[encoded data removed]",
      "text/plain": [
       "<Figure size 864x432 with 1 Axes>"
      ]
     },
     "metadata": {},
     "output_type": "display_data"
    }
   ],
   "source": [
    "# Let plot the data\n",
    "plt.figure(figsize=(12, 6))\n",
    "plt.plot(df['date'], df['count'])\n",
    "plt.xlabel('date')\n",
    "plt.show()"
   ]
  },
  {
   "cell_type": "markdown",
   "metadata": {},
   "source": [
    "# Modeling"
   ]
  },
  {
   "cell_type": "code",
   "execution_count": null,
   "metadata": {},
   "outputs": [],
   "source": [
    "model = models.WaveNet(filters=64, num_layers=4)"
   ]
  },
  {
   "cell_type": "code",
   "execution_count": null,
   "metadata": {},
   "outputs": [],
   "source": [
    "forecaster = Forecaster(\n",
    "    model,\n",
    "    lag=lag,  # This is the number of time steps used to predict the future for each data point\n",
    "    horizon=horizon,  # This is how many time steps into the future we want to produce\n",
    "    lr=0.001,  # This is the learning rate for the optimizer\n",
    "    epochs=50\n",
    ")"
   ]
  },
  {
   "cell_type": "code",
   "execution_count": null,
   "metadata": {},
   "outputs": [],
   "source": [
    "forecaster.fit(X_train, y_train, verbose=1)"
   ]
  },
  {
   "cell_type": "code",
   "execution_count": null,
   "metadata": {},
   "outputs": [],
   "source": [
    "plt.figure(figsize=(10,5))\n",
    "plt.plot(forecaster.history.epoch, forecaster.history.history['loss'], 'r')\n",
    "plt.xlabel('Epoch number')\n",
    "plt.ylabel(['Loss'])"
   ]
  },
  {
   "cell_type": "markdown",
   "metadata": {},
   "source": [
    "# Evaluation"
   ]
  },
  {
   "cell_type": "code",
   "execution_count": null,
   "metadata": {},
   "outputs": [],
   "source": [
    "samples = forecaster.predict(X_test, n_samples=1000)\n",
    "samples = scaler_y.inverse_transform(samples)\n",
    "prediction_mean = np.mean(samples, axis=0)\n",
    "prediction_lq = np.percentile(samples, q=5, axis=0)\n",
    "prediction_uq = np.percentile(samples, q=95, axis=0)"
   ]
  },
  {
   "cell_type": "code",
   "execution_count": null,
   "metadata": {},
   "outputs": [],
   "source": [
    "smape = metrics.smape(prediction_mean, y_test)\n",
    "cov, perc = metrics.coverage(samples, y_test)\n",
    "pinball = metrics.pinball_loss(samples, y_test)\n",
    "std_smape = metrics.std_smape(samples, y_test)\n",
    "\n",
    "print('SMAPE: {}%'.format(smape))\n",
    "print('Pinball Score: {}'.format(pinball))\n",
    "print('Std. SMAPE: {}%'.format(std_smape))\n",
    "print('Coverage: ')\n",
    "plt.plot(perc, perc)\n",
    "plt.plot(perc, cov)"
   ]
  },
  {
   "cell_type": "markdown",
   "metadata": {},
   "source": [
    "Lastly, we can check how our predictions compare with the data."
   ]
  },
  {
   "cell_type": "code",
   "execution_count": null,
   "metadata": {
    "scrolled": true
   },
   "outputs": [],
   "source": [
    "# We're printing the test set data and the predictions for the load data\n",
    "plt.figure(figsize=(10, 6))\n",
    "plt.plot(samples[:,0,:,0].T, 'g', alpha=0.01)\n",
    "plt.plot(y_test[0,:,:], 'k')\n",
    "plt.plot(prediction_mean[0,:,:], 'r', linewidth=2)\n",
    "plt.plot(prediction_lq[0,:,:], 'r', linewidth=2)\n",
    "plt.plot(prediction_uq[0,:,:], 'r', linewidth=2)\n",
    "plt.xlabel('time (hours)')\n",
    "plt.ylabel('Predicted and actual load')\n",
    "plt.tight_layout()"
   ]
  },
  {
   "cell_type": "code",
   "execution_count": null,
   "metadata": {},
   "outputs": [],
   "source": []
  }
 ],
 "metadata": {
  "kernelspec": {
   "display_name": "Python 3",
   "language": "python",
   "name": "python3"
  },
  "language_info": {
   "codemirror_mode": {
    "name": "ipython",
    "version": 3
   },
   "file_extension": ".py",
   "mimetype": "text/x-python",
   "name": "python",
   "nbconvert_exporter": "python",
   "pygments_lexer": "ipython3",
   "version": "3.6.2"
  }
 },
 "nbformat": 4,
 "nbformat_minor": 1
}
