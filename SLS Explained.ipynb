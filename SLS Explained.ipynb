{
 "cells": [
  {
   "cell_type": "markdown",
   "metadata": {},
   "source": [
    "# Streaming Least Squares (SLS) Algorithm for Anomaly Detection\n",
    "<img src=\"http://fraudcrimeprevention.files.wordpress.com/2012/06/shutterstock_664253742.jpg\" width=\"200\"/>\n",
    "\n",
    "## Algorithm Explained\n",
    "1. Generate sliding windows\n",
    "2. For each window, run ordinary least squares (aka. linear regression) and compute the regression residual as the anomaly of that window\n",
    "3. These windows are sorted by anomaly score with overlaping windows of lower anomaly score dropped from the results\n",
    "4. The results are classified into levels. Levels are formed on the basis that anomalies in the same level have similar scores. This process of finding level groups is similar to doing K-Means in one dimension.\n",
    "5. The clustering in step 4 also give us the automatic thresholds to determine the level of each anomaly."
   ]
  },
  {
   "cell_type": "markdown",
   "metadata": {},
   "source": [
    "## Usage\n",
    "SLS algorithm has 3 main parameters\n",
    "- **Time-to-detection** (aka. **window size**): this is the period of time that it takes a user to confirm that the data is abnormal. Example: 20 minutes. <u>Default value</u>: 20\n",
    "- **Number of levels**: specifies the number of severity levels. The higher this number, the more granular the anomalies classification will be. A number too high (e.g. 30) may lead to unncessary noise, i.e. the algorithm may classify benign patterns as anomalies, albeit with low severity level. <u>Default value</u>: 5\n",
    "- **Max number of anomalies**: this parameter is optional. If you have rough idea of how many anomalies in the historical data, you can provide that as weak supervision. <u>Default value</u>: `None`"
   ]
  },
  {
   "cell_type": "markdown",
   "metadata": {},
   "source": [
    "## Advantages of SLS over other algorithms\n",
    "#### Accurate\n",
    "SLS has a training phase and hence can detect the pattern over the entire period.\n",
    "\n",
    "Holt-Winters and other streaming-only algorithms classify based on past recent values. This leads to:\n",
    "- many false positives after an incident is already mitigated\n",
    "- longer time-to-detection because it has a long history dependency\n",
    "\n",
    "#### Automatic Thresholding\n",
    "#### Severity Levels\n",
    "SLS can output the severity level of an anomaly.\n",
    "#### Stateless \n",
    "SLS is stateless. The model isn't changed during when operationalized and hence is easier to debug, i.e. one doesn't need to rerun the algorithm from the beginning of time to debug."
   ]
  }
 ],
 "metadata": {
  "kernelspec": {
   "display_name": "Python 3",
   "language": "python",
   "name": "python3"
  },
  "language_info": {
   "codemirror_mode": {
    "name": "ipython",
    "version": 3
   },
   "file_extension": ".py",
   "mimetype": "text/x-python",
   "name": "python",
   "nbconvert_exporter": "python",
   "pygments_lexer": "ipython3",
   "version": "3.6.1"
  }
 },
 "nbformat": 4,
 "nbformat_minor": 2
}
